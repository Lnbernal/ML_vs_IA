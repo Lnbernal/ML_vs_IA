{
  "nbformat": 4,
  "nbformat_minor": 0,
  "metadata": {
    "colab": {
      "provenance": [],
      "authorship_tag": "ABX9TyNILCbbGdIYwChBErww9di8",
      "include_colab_link": true
    },
    "kernelspec": {
      "name": "python3",
      "display_name": "Python 3"
    },
    "language_info": {
      "name": "python"
    }
  },
  "cells": [
    {
      "cell_type": "markdown",
      "metadata": {
        "id": "view-in-github",
        "colab_type": "text"
      },
      "source": [
        "<a href=\"https://colab.research.google.com/github/Lnbernal/ML_vs_IA/blob/C-pandas-dataframes/PandasML.ipynb\" target=\"_parent\"><img src=\"https://colab.research.google.com/assets/colab-badge.svg\" alt=\"Open In Colab\"/></a>"
      ]
    },
    {
      "cell_type": "code",
      "execution_count": null,
      "metadata": {
        "colab": {
          "base_uri": "https://localhost:8080/"
        },
        "id": "ot_rD1x0X74t",
        "outputId": "5514d577-b684-479c-fa1f-688fe076296b"
      },
      "outputs": [
        {
          "output_type": "stream",
          "name": "stdout",
          "text": [
            "=== Creación de Series ===\n",
            "Serie creada:\n",
            " a    10\n",
            "b    20\n",
            "c    30\n",
            "d    40\n",
            "dtype: int64\n"
          ]
        }
      ],
      "source": [
        "import pandas as pd   # Importamos la librería\n",
        "\n",
        "# ============================\n",
        "# 1. Creación de Series\n",
        "# ============================\n",
        "print(\"=== Creación de Series ===\")\n",
        "serie1 = pd.Series([10, 20, 30, 40], index=[\"a\", \"b\", \"c\", \"d\"])  # Serie con índices personalizados\n",
        "print(\"Serie creada:\\n\", serie1)\n",
        "\n"
      ]
    },
    {
      "cell_type": "code",
      "source": [
        "# ============================\n",
        "# 2. Creación de DataFrames\n",
        "# ============================\n",
        "print(\"=== Creación de DataFrame ===\")\n",
        "datos = {\n",
        "    \"Nombre\": [\"Ana\", \"Luis\", \"Pedro\"],   # Columna de nombres\n",
        "    \"Edad\": [23, 30, 21],                 # Columna de edades\n",
        "    \"Ciudad\": [\"Bogotá\", \"Medellín\", \"Cali\"]  # Columna de ciudades\n",
        "}\n",
        "df = pd.DataFrame(datos)   # Se crea el DataFrame\n",
        "print(df)\n"
      ],
      "metadata": {
        "colab": {
          "base_uri": "https://localhost:8080/"
        },
        "id": "dJFrpBnIYpZf",
        "outputId": "5b7d802f-bae7-4304-8ba0-135274873a09"
      },
      "execution_count": null,
      "outputs": [
        {
          "output_type": "stream",
          "name": "stdout",
          "text": [
            "=== Creación de DataFrame ===\n",
            "  Nombre  Edad    Ciudad\n",
            "0    Ana    23    Bogotá\n",
            "1   Luis    30  Medellín\n",
            "2  Pedro    21      Cali\n"
          ]
        }
      ]
    },
    {
      "cell_type": "code",
      "source": [
        "# ============================\n",
        "# 3. Selección de Datos\n",
        "# ============================\n",
        "print(\"=== Selección de Datos ===\")\n",
        "print(\"Columna Nombre:\\n\", df[\"Nombre\"])       # Seleccionar una columna\n",
        "print(\"\\nFila por índice (iloc[0]):\\n\", df.iloc[0])  # Fila por posición\n",
        "print(\"\\nFila por etiqueta (loc[1]):\\n\", df.loc[1])  # Fila por índice/etiqueta\n",
        "\n"
      ],
      "metadata": {
        "colab": {
          "base_uri": "https://localhost:8080/"
        },
        "id": "7gtRYc4OYvFy",
        "outputId": "9c581b7c-1059-4cb2-fe5d-55b8bac3b625"
      },
      "execution_count": null,
      "outputs": [
        {
          "output_type": "stream",
          "name": "stdout",
          "text": [
            "=== Selección de Datos ===\n",
            "Columna Nombre:\n",
            " 0      Ana\n",
            "1     Luis\n",
            "2    Pedro\n",
            "Name: Nombre, dtype: object\n",
            "\n",
            "Fila por índice (iloc[0]):\n",
            " Nombre       Ana\n",
            "Edad          23\n",
            "Ciudad    Bogotá\n",
            "Name: 0, dtype: object\n",
            "\n",
            "Fila por etiqueta (loc[1]):\n",
            " Nombre        Luis\n",
            "Edad            30\n",
            "Ciudad    Medellín\n",
            "Name: 1, dtype: object\n"
          ]
        }
      ]
    },
    {
      "cell_type": "code",
      "source": [
        "# ============================\n",
        "# 4. Tipos de Datos\n",
        "# ============================\n",
        "print(\"=== Tipos de Datos ===\")\n",
        "print(df.dtypes)  # Ver tipos de cada columna\n",
        "\n",
        "# Convertir tipo de dato\n",
        "df[\"Edad\"] = df[\"Edad\"].astype(float)  # Convertir Edad a float\n",
        "print(\"\\nEdad convertida a float:\\n\", df.dtypes)\n"
      ],
      "metadata": {
        "colab": {
          "base_uri": "https://localhost:8080/"
        },
        "id": "XZopDGvvYzgC",
        "outputId": "e0c4696a-516f-4fbe-aaca-015b056ed1a2"
      },
      "execution_count": null,
      "outputs": [
        {
          "output_type": "stream",
          "name": "stdout",
          "text": [
            "=== Tipos de Datos ===\n",
            "Nombre    object\n",
            "Edad       int64\n",
            "Ciudad    object\n",
            "dtype: object\n",
            "\n",
            "Edad convertida a float:\n",
            " Nombre     object\n",
            "Edad      float64\n",
            "Ciudad     object\n",
            "dtype: object\n"
          ]
        }
      ]
    }
  ]
}